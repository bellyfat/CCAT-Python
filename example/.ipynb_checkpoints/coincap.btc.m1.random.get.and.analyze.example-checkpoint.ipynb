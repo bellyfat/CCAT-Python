{
 "cells": [
  {
   "cell_type": "markdown",
   "metadata": {},
   "source": [
    "# Coincap example\n",
    "\n",
    "Crypto Currency Arbitrage Trading Back Testing within Coincap.\n",
    "\n",
    "This document discribed how to get data from coincap to analyze arbitrage opportunity."
   ]
  },
  {
   "cell_type": "markdown",
   "metadata": {},
   "source": [
    "## 1. random get data from coincap"
   ]
  },
  {
   "cell_type": "code",
   "execution_count": 1,
   "metadata": {},
   "outputs": [
    {
     "data": {
      "text/plain": [
       "<function TextIOWrapper.close()>"
      ]
     },
     "execution_count": 1,
     "metadata": {},
     "output_type": "execute_result"
    }
   ],
   "source": [
    "# get random data of Okex Binance Huobi Gate\n",
    "\n",
    "import requests, time\n",
    "\n",
    "okexFile = open(\"../data/coincap_candles_m1_random/BTC/coincap_candles_okex_bitcoin_m1_random.json\",\"w+\")\n",
    "binanceFile = open(\"../data/coincap_candles_m1_random/BTC/coincap_candles_binance_bitcoin_m1_random.json\",\"w+\")\n",
    "huobiFile = open(\"../data/coincap_candles_m1_random/BTC/coincap_candles_huobi_bitcoin_m1_random.json\",\"w+\")\n",
    "gateFile = open(\"../data/coincap_candles_m1_random/BTC/coincap_candles_gate_bitcoin_m1_random.json\",\"w+\")\n",
    "\n",
    "url = \"https://api.coincap.io/v2/candles\"\n",
    "\n",
    "start = \"2018-11-1 6:00:00, 0\"\n",
    "end = \"2018-11-1 12:00:00, 0\"\n",
    "\n",
    "startTimeArray = time.strptime(start, \"%Y-%m-%d %H:%M:%S, %f\")\n",
    "endTimeArray = time.strptime(end, \"%Y-%m-%d %H:%M:%S, %f\")\n",
    "startTimeStamp = int(time.mktime(startTimeArray)*1000)\n",
    "endTimeStamp = int(time.mktime(endTimeArray)*1000)\n",
    "\n",
    "okexQuerystring = {\"exchange\":\"okex\",\"interval\":\"m1\",\"baseId\":\"bitcoin\",\"quoteId\":\"tether\",  \n",
    "               \"start\":startTimeStamp,\"end\":endTimeStamp}\n",
    "binanceQuerystring = {\"exchange\":\"binance\",\"interval\":\"m1\",\"baseId\":\"bitcoin\",\"quoteId\":\"tether\",  \n",
    "               \"start\":startTimeStamp,\"end\":endTimeStamp}\n",
    "huobiQuerystring = {\"exchange\":\"huobi\",\"interval\":\"m1\",\"baseId\":\"bitcoin\",\"quoteId\":\"tether\",  \n",
    "               \"start\":startTimeStamp,\"end\":endTimeStamp}\n",
    "gateQuerystring = {\"exchange\":\"gate\",\"interval\":\"m1\",\"baseId\":\"bitcoin\",\"quoteId\":\"tether\",  \n",
    "               \"start\":startTimeStamp,\"end\":endTimeStamp}\n",
    "\n",
    "okexResponse = requests.request(\"GET\", url, params=okexQuerystring)\n",
    "binanceResponse = requests.request(\"GET\", url, params=binanceQuerystring)\n",
    "huobiResponse = requests.request(\"GET\", url, params=huobiQuerystring)\n",
    "gateResponse = requests.request(\"GET\", url, params=gateQuerystring)\n",
    "\n",
    "okexFile.write(okexResponse.text)\n",
    "binanceFile.write(binanceResponse.text)\n",
    "huobiFile.write(huobiResponse.text)\n",
    "gateFile.write(gateResponse.text)\n",
    "\n",
    "okexFile.close\n",
    "binanceFile.close\n",
    "huobiFile.close\n",
    "gateFile.close"
   ]
  },
  {
   "cell_type": "markdown",
   "metadata": {},
   "source": [
    "# 2. analyze arbitrage opportunity "
   ]
  },
  {
   "cell_type": "code",
   "execution_count": 10,
   "metadata": {},
   "outputs": [],
   "source": [
    "# read random data of Okex Binance Huobi Gate\n",
    "\n",
    "import talib\n",
    "import datetime\n",
    "import numpy as np\n",
    "import pandas as pd\n",
    "import mpl_finance as mpf\n",
    "import matplotlib.pyplot as plt\n",
    "import matplotlib.dates as dates\n",
    "\n",
    "okexJsonFile = \"../data/coincap_candles_m1_random/BTC/coincap_candles_okex_bitcoin_m1_random.json\"\n",
    "binanceJsonFile = \"../data/coincap_candles_m1_random/BTC/coincap_candles_binance_bitcoin_m1_random.json\"\n",
    "huobiJsonFile = \"../data/coincap_candles_m1_random/BTC/coincap_candles_huobi_bitcoin_m1_random.json\"\n",
    "gateJsonFile = \"../data/coincap_candles_m1_random/BTC/coincap_candles_gate_bitcoin_m1_random.json\"\n",
    "\n",
    "okexJsonData = pd.read_json(okexJsonFile,orient='values',encoding='utf-8').data\n",
    "binanceJsonData = pd.read_json(binanceJsonFile,orient='values',encoding='utf-8').data\n",
    "huobiJsonData = pd.read_json(huobiJsonFile,orient='values',encoding='utf-8').data\n",
    "gateJsonData = pd.read_json(gateJsonFile,orient='values',encoding='utf-8').data\n",
    "\n",
    "okexQuotes = pd.DataFrame(columns=('period', 'open', 'high', 'low', 'close', 'volume'))\n",
    "binanceQuotes = pd.DataFrame(columns=('period', 'open', 'high', 'low', 'close', 'volume'))\n",
    "huobiQuotes = pd.DataFrame(columns=('period', 'open', 'high', 'low', 'close', 'volume'))\n",
    "gateQuotes = pd.DataFrame(columns=('period', 'open', 'high', 'low', 'close', 'volume'))\n",
    "\n",
    "for index in range(len(okexJsonData)):\n",
    "    okexQuotes.loc[index] = {'period':dates.date2num(datetime.datetime.fromtimestamp(float(okexJsonData[index]['period'])/1000)),\n",
    "                         'open':float(okexJsonData[index]['open']), 'high':float(okexJsonData[index]['high']), 'low':float(okexJsonData[index]['low']),  \n",
    "                        'close':float(okexJsonData[index]['close']), 'volume':float(okexJsonData[index]['volume'])}\n",
    "for index in range(len(binanceJsonData)):\n",
    "    binanceQuotes.loc[index] = {'period':dates.date2num(datetime.datetime.fromtimestamp(float(binanceJsonData[index]['period'])/1000)),\n",
    "                         'open':float(binanceJsonData[index]['open']), 'high':float(binanceJsonData[index]['high']), 'low':float(binanceJsonData[index]['low']),  \n",
    "                        'close':float(binanceJsonData[index]['close']), 'volume':float(binanceJsonData[index]['volume'])}\n",
    "for index in range(len(huobiJsonData)):\n",
    "    huobiQuotes.loc[index] = {'period':dates.date2num(datetime.datetime.fromtimestamp(float(huobiJsonData[index]['period'])/1000)),\n",
    "                         'open':float(huobiJsonData[index]['open']), 'high':float(huobiJsonData[index]['high']), 'low':float(huobiJsonData[index]['low']),  \n",
    "                        'close':float(huobiJsonData[index]['close']), 'volume':float(huobiJsonData[index]['volume'])}\n",
    "for index in range(len(gateJsonData)):\n",
    "    gateQuotes.loc[index] = {'period':dates.date2num(datetime.datetime.fromtimestamp(float(gateJsonData[index]['period'])/1000)),\n",
    "                         'open':float(gateJsonData[index]['open']), 'high':float(gateJsonData[index]['high']), 'low':float(gateJsonData[index]['low']),  \n",
    "                        'close':float(gateJsonData[index]['close']), 'volume':float(gateJsonData[index]['volume'])}\n"
   ]
  },
  {
   "cell_type": "code",
   "execution_count": 11,
   "metadata": {},
   "outputs": [
    {
     "ename": "IndentationError",
     "evalue": "expected an indented block (<ipython-input-11-d84ebcd6ce91>, line 16)",
     "output_type": "error",
     "traceback": [
      "\u001b[0;36m  File \u001b[0;32m\"<ipython-input-11-d84ebcd6ce91>\"\u001b[0;36m, line \u001b[0;32m16\u001b[0m\n\u001b[0;31m    tick.set_rotation(45)\u001b[0m\n\u001b[0m       ^\u001b[0m\n\u001b[0;31mIndentationError\u001b[0m\u001b[0;31m:\u001b[0m expected an indented block\n"
     ]
    }
   ],
   "source": [
    "# draw random data of Okex Binance Huobi Gate\n",
    "    \n",
    "%matplotlib inline\n",
    "\n",
    "plt.figure()\n",
    "fig, axs = plt.subplots(2, 2, sharex=True, sharey=True, figsize=(24,12))\n",
    "fig.tight_layout() #调整整体空白\n",
    "plt.subplots_adjust(wspace =0.05, hspace =0.1) #调整子图间距\n",
    "\n",
    "axs[0, 0].xaxis_date()\n",
    "axs[0, 0].set_title(\"OKEX\")\n",
    "axs[0, 0].set_ylabel(\"USDT\")\n",
    "axs[0, 0].grid(True)\n",
    "for tick in axs[0, 0].get_xticklabels():\n",
    "    tick.set_rotation(45)\n",
    "mpf.candlestick_ohlc(axs[0, 0], np.array(okexQuotes.reset_index()[['period', 'open', 'high', 'low', 'close']]),  \n",
    "                     width=0.0005, colorup='green', colordown='red')\n",
    "    \n",
    "axs[0, 1].xaxis_date()\n",
    "axs[0, 1].set_title(\"BINANCE\")\n",
    "axs[0, 1].set_ylabel(\"USDT\")\n",
    "axs[0, 1].grid(True)\n",
    "for tick in axs[0, 1].get_xticklabels():\n",
    "    tick.set_rotation(45)\n",
    "mpf.candlestick_ohlc(axs[0, 1], np.array(binanceQuotes.reset_index()[['period', 'open', 'high', 'low', 'close']]),  \n",
    "                     width=0.0005, colorup='green', colordown='red')\n",
    "\n",
    "axs[1, 0].xaxis_date()\n",
    "axs[1, 0].set_title(\"HUOBI\")\n",
    "axs[1, 0].set_ylabel(\"USDT\")\n",
    "axs[1, 0].grid(True)\n",
    "for tick in axs[1, 0].get_xticklabels():\n",
    "    tick.set_rotation(45)\n",
    "mpf.candlestick_ohlc(axs[1, 0], np.array(huobiQuotes.reset_index()[['period', 'open', 'high', 'low', 'close']]),  \n",
    "                     width=0.0005, colorup='green', colordown='red')\n",
    "\n",
    "axs[1, 1].xaxis_date()\n",
    "axs[1, 1].set_title(\"GATE\")\n",
    "axs[1, 1].set_ylabel(\"USDT\")\n",
    "axs[1, 1].grid(True)\n",
    "for tick in axs[1, 1].get_xticklabels():\n",
    "    tick.set_rotation(45)\n",
    "mpf.candlestick_ohlc(axs[1, 1], np.array(gateQuotes.reset_index()[['period', 'open', 'high', 'low', 'close']]),  \n",
    "                     width=0.0005, colorup='green', colordown='red')\n",
    "\n",
    "plt.show()"
   ]
  },
  {
   "cell_type": "code",
   "execution_count": null,
   "metadata": {},
   "outputs": [],
   "source": []
  }
 ],
 "metadata": {
  "kernelspec": {
   "display_name": "Python 3",
   "language": "python",
   "name": "python3"
  },
  "language_info": {
   "codemirror_mode": {
    "name": "ipython",
    "version": 3
   },
   "file_extension": ".py",
   "mimetype": "text/x-python",
   "name": "python",
   "nbconvert_exporter": "python",
   "pygments_lexer": "ipython3",
   "version": "3.6.6"
  }
 },
 "nbformat": 4,
 "nbformat_minor": 2
}
