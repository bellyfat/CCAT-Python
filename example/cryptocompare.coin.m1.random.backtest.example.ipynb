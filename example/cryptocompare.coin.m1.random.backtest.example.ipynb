{
 "cells": [
  {
   "cell_type": "markdown",
   "metadata": {},
   "source": [
    "# CryptoCompare example\n",
    "\n",
    "Crypto Currency Arbitrage Trading Back Testing within CryptoCompare.\n",
    "\n",
    "This document discribed how to get data from CryptoCompare to analyze arbitrage opportunity."
   ]
  },
  {
   "cell_type": "markdown",
   "metadata": {},
   "source": [
    "# 1. Calc the common coins in Okex, Binance, Huobi and gate"
   ]
  },
  {
   "cell_type": "code",
   "execution_count": 4,
   "metadata": {},
   "outputs": [
    {
     "data": {
      "text/plain": [
       "<function TextIOWrapper.close()>"
      ]
     },
     "execution_count": 4,
     "metadata": {},
     "output_type": "execute_result"
    }
   ],
   "source": [
    "# get the exchange and coins data from CryptoCompare\n",
    "\n",
    "import requests\n",
    "\n",
    "exchangeCoinFile = open(\"../data/cryptocompare/cryptocompare.exchange.json\",\"w+\")\n",
    "\n",
    "exchangeCoinQuerryURL = \"https://min-api.cryptocompare.com/data/all/exchanges\"\n",
    "\n",
    "exchangeCoinResponse = requests.request(\"GET\", exchangeCoinQuerryURL)\n",
    "\n",
    "exchangeCoinFile.write(exchangeCoinResponse.text)\n",
    "\n",
    "exchangeCoinFile.close\n"
   ]
  },
  {
   "cell_type": "code",
   "execution_count": 56,
   "metadata": {},
   "outputs": [
    {
     "data": {
      "text/plain": [
       "{'BTC', 'ETH'}"
      ]
     },
     "execution_count": 56,
     "metadata": {},
     "output_type": "execute_result"
    }
   ],
   "source": [
    "# calc the common coins in Okex Binance Huobi Gate\n",
    "\n",
    "import json\n",
    "import pandas as pd\n",
    "\n",
    "exchangeCoinFile = \"../data/cryptocompare/cryptocompare.exchange.json\"\n",
    "\n",
    "# Reading data back\n",
    "with open(exchangeCoinFile, 'r') as f:\n",
    "    exchangeCoinData = json.load(f)\n",
    "    \n",
    "#exchangeCoinData = pd.read_json(exchangeCoinFile, orient='index', encoding='utf-8')\n",
    "\n",
    "okexCoin = exchangeCoinData[\"OKEX\"]\n",
    "binanceCoin = exchangeCoinData[\"Binance\"]\n",
    "huobiCoin = exchangeCoinData[\"HuobiPro\"]\n",
    "gateCoin = exchangeCoinData[\"Gateio\"]\n",
    "\n",
    "okexBinanceCommonKeys = okexCoin.keys() & binanceCoin.keys()\n",
    "okexHuobiCommonKeys = okexCoin.keys() & huobiCoin.keys()\n",
    "okexGateCommonKeys = okexCoin.keys() & gateCoin.keys()\n",
    "binanceHuobicommonKeys = binanceCoin.keys() & huobiCoin.keys()\n",
    "binanceGateCommonKeys = binanceCoin.keys() & gateCoin.keys()\n",
    "huobiGateCommonKeys = huobiCoin.keys() & gateCoin.keys()\n",
    "\n",
    "okexBinanceCoin = {}\n",
    "okexHuobiCoin = {}\n",
    "okexGateCoin = {}\n",
    "binanceHuobiCoin = {}\n",
    "binanceGateCoin = {}\n",
    "huobiGateCoin = {}\n",
    "\n",
    "for key in okexBinanceCommonKeys:\n",
    "    okexBinanceCoin[key] = list(set(okexCoin[key]).intersection(set(binanceCoin[key])))\n",
    "for key in okexHuobiCommonKeys:\n",
    "    okexHuobiCoin[key] = list(set(okexCoin[key]).intersection(set(huobiCoin[key])))\n",
    "for key in okexGateCommonKeys:\n",
    "    okexGateCoin[key] = list(set(okexCoin[key]).intersection(set(gateCoin[key])))\n",
    "for key in binanceHuobicommonKeys:\n",
    "    binanceHuobiCoin[key] = list(set(binanceCoin[key]).intersection(set(huobiCoin[key])))\n",
    "for key in binanceGateCommonKeys:\n",
    "    binanceGateCoin[key] = list(set(binanceCoin[key]).intersection(set(gateCoin[key])))\n",
    "for key in huobiGateCommonKeys:\n",
    "    huobiGateCoin[key] = list(set(huobiCoin[key]).intersection(set(gateCoin[key])))\n"
   ]
  },
  {
   "cell_type": "code",
   "execution_count": 52,
   "metadata": {},
   "outputs": [
    {
     "data": {
      "text/plain": [
       "['ETH', 'BTC']"
      ]
     },
     "execution_count": 52,
     "metadata": {},
     "output_type": "execute_result"
    }
   ],
   "source": [
    "list(set(okexCoin[key]).intersection(set(binanceCoin[key])))"
   ]
  }
 ],
 "metadata": {
  "kernelspec": {
   "display_name": "Python 3",
   "language": "python",
   "name": "python3"
  },
  "language_info": {
   "codemirror_mode": {
    "name": "ipython",
    "version": 3
   },
   "file_extension": ".py",
   "mimetype": "text/x-python",
   "name": "python",
   "nbconvert_exporter": "python",
   "pygments_lexer": "ipython3",
   "version": "3.6.6"
  }
 },
 "nbformat": 4,
 "nbformat_minor": 2
}
